{
 "cells": [
  {
   "cell_type": "raw",
   "id": "e7453467-55be-40ee-bd5e-17e5a8a39789",
   "metadata": {},
   "source": [
    "Q1. What is a database? Differentiate between SQL and NoSQL databases."
   ]
  },
  {
   "cell_type": "raw",
   "id": "19d03c0e-af27-494f-badd-94cd544738d5",
   "metadata": {},
   "source": [
    "Sol1: A database is an organized collection of data, so that it can be easily accessed and managed.\n",
    " A SQL database is a database where data is defied in form of tables whereas NoSQL  database stads for not only SQL batabase, these database include  document, key-value, graph,audio, video etc."
   ]
  },
  {
   "cell_type": "raw",
   "id": "cd0a075b-058b-4c77-9243-07978b83ac88",
   "metadata": {},
   "source": [
    "Q2. What is DDL? Explain why CREATE, DROP, ALTER, and TRUNCATE are used with an example."
   ]
  },
  {
   "cell_type": "raw",
   "id": "3a23b09a-4b1a-43ba-9da8-0c97f68f52c4",
   "metadata": {},
   "source": [
    "DDL stands for data defining language and is a set of SQL commands used to create, modify, and delete database structures but not data. "
   ]
  },
  {
   "cell_type": "raw",
   "id": "e4e584c8-e1bb-41af-b175-ae2a4a17da78",
   "metadata": {},
   "source": [
    "(1). CRETAE : This command is used to create the database or its objects.\n",
    "example: syntax of creating database:\n",
    " CREATE TABLE table_name \n",
    " (\n",
    "  Column1 datatype (size),\n",
    "  column2 datatype (size),\n",
    "  columnN datatype(size)\n",
    "  );"
   ]
  },
  {
   "cell_type": "raw",
   "id": "1b0e76ff-cdc1-48ad-b6f1-d30b18bdb08c",
   "metadata": {},
   "source": [
    "(2). Drop : This command is used to delete the database or its objects.\n",
    "example: syntax of deleting  table name:\n",
    " DROP DATABASE database_name;\n",
    " "
   ]
  },
  {
   "cell_type": "raw",
   "id": "b0207dd8-d81b-4109-bfe5-832ffbf6d8a7",
   "metadata": {},
   "source": [
    "(3). Alter : The ALTER TABLE statement in SQL is used to add, remove, or modify columns in an existing table. \n",
    "example: syntax of Alter table :\n",
    " ALTER TABLE TABLE_NAME\n",
    " ADD Column_name datatype(size)\n",
    " "
   ]
  },
  {
   "cell_type": "raw",
   "id": "7a5c2376-ba84-420c-8c03-d488189f7132",
   "metadata": {},
   "source": [
    "(4). Truncate :  Truncate is used to delete the data inside the table not the whole table.\n",
    "example: syntax of Truncating a table :\n",
    "TRUNCATE TABLE table_name;\n",
    "\n",
    "\n",
    "truncate holds the table structure i memory ad delete all its data"
   ]
  },
  {
   "cell_type": "raw",
   "id": "e8263a48-ae85-49c9-80fe-0c8da204a8ef",
   "metadata": {},
   "source": [
    "Q3. What is DML? Explain INSERT, UPDATE, and DELETE with an example.\n"
   ]
  },
  {
   "cell_type": "raw",
   "id": "65e98a38-a836-47ce-a71b-e21cd0ade6b8",
   "metadata": {},
   "source": [
    "DML:\n",
    "    DML stands for Data Manipulation Language which includes SQL commands that deal with the manipulation of data present in the database and this includes most of the SQL statements."
   ]
  },
  {
   "cell_type": "raw",
   "id": "2f90110d-3cd1-454b-88a6-3de12e665764",
   "metadata": {},
   "source": [
    "(1). INSERT: This query is used to insert data into table\n",
    "There are 2 ways of using INSERT INTO statement\n",
    " A) The first method is to specify only the value of data to be inserted without the column names:\n",
    " \n",
    " suppose we have a table having columns naming \n",
    " ROLL_NO, NAME,\tADDRESS, PHONE, Age :\n",
    " syntax of Inserrt query:\n",
    " \n",
    " INSERT INTO TABLE table_name VALUES\n",
    " ('01', 'RIK', 'ABC', 'XXXXXXX', '21');\n",
    " \n",
    " B) The 2nd method is to specify the column name with the values:\n",
    "  \n",
    " INSERT INTO table_name\n",
    " (ROLL_NO, NAME, Age) VALUES ('5','PRATIK','19');"
   ]
  },
  {
   "cell_type": "raw",
   "id": "5ab3b964-158d-4565-a4ae-948a05d7586a",
   "metadata": {},
   "source": [
    "(2). UPDATE: It is used to update existing data within a table.\n",
    "\n",
    "UPDATE table_name SET columnName  \n",
    "= 'value to be given' WHERE colum_name = reference value;\n",
    "  "
   ]
  },
  {
   "cell_type": "raw",
   "id": "3a1254d6-c2ff-4113-a303-cafeafcd063d",
   "metadata": {},
   "source": [
    "(3).DELETE: It is used to delete existing single/multiple records in a table. \n",
    "\n",
    " DELETE FROM table_name WHERE some_condition;"
   ]
  },
  {
   "cell_type": "raw",
   "id": "4c3dd16e-2f0f-4a89-bf71-d3c1f9108928",
   "metadata": {},
   "source": [
    "Q4. What is DQL? Explain SELECT with an example."
   ]
  },
  {
   "cell_type": "raw",
   "id": "009691ad-b7df-42fb-9846-c2600a12245e",
   "metadata": {},
   "source": [
    "SOl:\n",
    "    DQL stands Data query language and it is a component of SQL statement that allows getting data from the database and imposing order upon it.\n",
    "\n",
    "Select: It is used to retrieve data from the database. We can fetch either the entire table or according to some specified rules. The data returned is stored in a result table. \n",
    "\n",
    "Example: To Fetch all the data from table: \n",
    "SELECT * FROM table_name; \n",
    "* is for getting all data from table."
   ]
  },
  {
   "cell_type": "raw",
   "id": "df3b3f15-7042-4638-915c-202644f8b1a4",
   "metadata": {},
   "source": [
    "Q5. Explain Primary Key and Foreign Key.\n",
    "\n",
    "Sol:  \n",
    " The primary key is a unique or non-null key that uniquely identifies every record in a table or relation. The primary key column can't store duplicate values.\n",
    " \n",
    " Foreign key is used to maintain relationship between two tables. It is used to establish a link between the two tables and is used to enforce referential integrity in the database."
   ]
  },
  {
   "cell_type": "raw",
   "id": "45d35006-6a9d-4df9-808a-030307c957b6",
   "metadata": {},
   "source": [
    "Q6. Write a python code to connect MySQL to python. Explain the cursor() and execute() method."
   ]
  },
  {
   "cell_type": "raw",
   "id": "cc38ba5d-607a-4fbe-9650-2f34c73c8aa1",
   "metadata": {},
   "source": [
    "#code for coencting python to mysql\n",
    "import mysql.connector\n",
    "mydb = mysql.connector.connect(\n",
    "    host = \"localhost\"\n",
    "    user = \"rik\"\n",
    "    password = \"password\"\n",
    ")\n",
    "print(mydb)\n",
    "mycursor = mydb.cursor()\n",
    "mycursor.execute \"SHOW DATABASES\"\n",
    "for x in mycursor:\n",
    "    print(x)"
   ]
  },
  {
   "cell_type": "raw",
   "id": "74735930-1885-4769-ac04-70dc1dc2bc69",
   "metadata": {},
   "source": [
    "Q7:Give the order of execution of SQL clauses in an SQL query."
   ]
  },
  {
   "cell_type": "raw",
   "id": "faf16559-3992-4ee3-9b7f-2a80c4207db1",
   "metadata": {},
   "source": [
    "Sol:1.FROM \n",
    "    2.WHERE\n",
    "    3.GROUP BY\n",
    "    4.HAVING    \n",
    "    5.SELECT\n",
    "    6.ORDER BY\n",
    "    7.LIMIT\n"
   ]
  }
 ],
 "metadata": {
  "kernelspec": {
   "display_name": "Python 3 (ipykernel)",
   "language": "python",
   "name": "python3"
  },
  "language_info": {
   "codemirror_mode": {
    "name": "ipython",
    "version": 3
   },
   "file_extension": ".py",
   "mimetype": "text/x-python",
   "name": "python",
   "nbconvert_exporter": "python",
   "pygments_lexer": "ipython3",
   "version": "3.10.8"
  }
 },
 "nbformat": 4,
 "nbformat_minor": 5
}
